{
  "nbformat": 4,
  "nbformat_minor": 0,
  "metadata": {
    "colab": {
      "name": "code_ec_energy.ipynb",
      "provenance": [],
      "include_colab_link": true
    },
    "kernelspec": {
      "name": "python3",
      "display_name": "Python 3"
    },
    "language_info": {
      "name": "python"
    }
  },
  "cells": [
    {
      "cell_type": "markdown",
      "metadata": {
        "id": "view-in-github",
        "colab_type": "text"
      },
      "source": [
        "<a href=\"https://colab.research.google.com/github/max-broekhuis/workshop-consultancy-day/blob/main/code_ec_energy.ipynb\" target=\"_parent\"><img src=\"https://colab.research.google.com/assets/colab-badge.svg\" alt=\"Open In Colab\"/></a>"
      ]
    },
    {
      "cell_type": "code",
      "metadata": {
        "id": "re7a3JIFlv90",
        "colab": {
          "base_uri": "https://localhost:8080/"
        },
        "outputId": "ce102156-9df4-4b92-8097-e7f027b77ca0"
      },
      "source": [
        "import pandas as pd\n",
        "import numpy as np\n",
        "import statsmodels.api as sm"
      ],
      "execution_count": 1,
      "outputs": [
        {
          "output_type": "stream",
          "text": [
            "/usr/local/lib/python3.7/dist-packages/statsmodels/tools/_testing.py:19: FutureWarning: pandas.util.testing is deprecated. Use the functions in the public API at pandas.testing instead.\n",
            "  import pandas.util.testing as tm\n"
          ],
          "name": "stderr"
        }
      ]
    },
    {
      "cell_type": "markdown",
      "metadata": {
        "id": "l2ULY5A43WxO"
      },
      "source": [
        "# Inladen Data\n",
        "\n"
      ]
    },
    {
      "cell_type": "code",
      "metadata": {
        "colab": {
          "base_uri": "https://localhost:8080/"
        },
        "id": "vqTMrbWhrbIn",
        "outputId": "eaef637b-7921-42fb-c948-089364ccefd9"
      },
      "source": [
        "!curl -L -c cookies.txt 'https://docs.google.com/uc?export=download&id=1mlqgfqfBmp9Att1KHQZADannFgAqt7l6' | sed -rn 's/.*confirm=([0-9A-Za-z_]+).*/\\1/p' > confirm.txt\n",
        "!curl -L -b cookies.txt -o 'EC_Energy_case.xlsx' 'https://docs.google.com/uc?export=download&id=1mlqgfqfBmp9Att1KHQZADannFgAqt7l6&confirm='$(<confirm.txt)\n",
        "!rm -f confirm.txt cookies.txt"
      ],
      "execution_count": 2,
      "outputs": [
        {
          "output_type": "stream",
          "text": [
            "  % Total    % Received % Xferd  Average Speed   Time    Time     Time  Current\n",
            "                                 Dload  Upload   Total   Spent    Left  Speed\n",
            "100   388    0   388    0     0    285      0 --:--:--  0:00:01 --:--:--   284\n",
            "100 5257k    0 5257k    0     0  2598k      0 --:--:--  0:00:02 --:--:-- 2598k\n",
            "  % Total    % Received % Xferd  Average Speed   Time    Time     Time  Current\n",
            "                                 Dload  Upload   Total   Spent    Left  Speed\n",
            "100   408    0   408    0     0    323      0 --:--:--  0:00:01 --:--:--   323\n",
            "  0     0    0     0    0     0      0      0 --:--:--  0:00:01 --:--:--     0\n",
            "  0     0    0     0    0     0      0      0 --:--:--  0:00:01 --:--:--     0\n",
            "100 5257k    0 5257k    0     0  3486k      0 --:--:--  0:00:01 --:--:-- 3486k\n"
          ],
          "name": "stdout"
        }
      ]
    },
    {
      "cell_type": "code",
      "metadata": {
        "id": "LMorjSQCsotB"
      },
      "source": [
        "data = pd.read_excel(\"EC_Energy_case.xlsx\")\n",
        "data = data.assign(totaal_zonnepanelen = lambda x: x.aantal_installaties_bij_woningen*x.aantal_zonnepanelen_per_installatie)"
      ],
      "execution_count": 3,
      "outputs": []
    },
    {
      "cell_type": "markdown",
      "metadata": {
        "id": "8ifi0vmb3jfA"
      },
      "source": [
        "# Analyse data"
      ]
    },
    {
      "cell_type": "code",
      "metadata": {
        "colab": {
          "base_uri": "https://localhost:8080/",
          "height": 224
        },
        "id": "v_c3jWBI7Be-",
        "outputId": "906c2ca9-de8f-484b-8370-89e86b2acbd8"
      },
      "source": [
        "data.head()"
      ],
      "execution_count": 4,
      "outputs": [
        {
          "output_type": "execute_result",
          "data": {
            "text/html": [
              "<div>\n",
              "<style scoped>\n",
              "    .dataframe tbody tr th:only-of-type {\n",
              "        vertical-align: middle;\n",
              "    }\n",
              "\n",
              "    .dataframe tbody tr th {\n",
              "        vertical-align: top;\n",
              "    }\n",
              "\n",
              "    .dataframe thead th {\n",
              "        text-align: right;\n",
              "    }\n",
              "</style>\n",
              "<table border=\"1\" class=\"dataframe\">\n",
              "  <thead>\n",
              "    <tr style=\"text-align: right;\">\n",
              "      <th></th>\n",
              "      <th>X1</th>\n",
              "      <th>gemeentenaam</th>\n",
              "      <th>soort_regio</th>\n",
              "      <th>id</th>\n",
              "      <th>codering</th>\n",
              "      <th>aantal_inwoners</th>\n",
              "      <th>woningkenmerken</th>\n",
              "      <th>stadsverwarming</th>\n",
              "      <th>mannen</th>\n",
              "      <th>vrouwen</th>\n",
              "      <th>k_0_tot_15_jaar</th>\n",
              "      <th>k_15_tot_25_jaar</th>\n",
              "      <th>k_25_tot_45_jaar</th>\n",
              "      <th>k_45_tot_65_jaar</th>\n",
              "      <th>k_65_jaar_of_ouder</th>\n",
              "      <th>huishoudens_totaal</th>\n",
              "      <th>eenpersoonshuishoudens</th>\n",
              "      <th>huishoudens_zonder_kinderen</th>\n",
              "      <th>huishoudens_met_kinderen</th>\n",
              "      <th>gemiddelde_huishoudensgrootte</th>\n",
              "      <th>bevolkingsdichtheid</th>\n",
              "      <th>woningvoorraad</th>\n",
              "      <th>gemiddelde_woningwaarde</th>\n",
              "      <th>koopwoningen</th>\n",
              "      <th>huurwoningen_totaal</th>\n",
              "      <th>in_bezit_woningcorporatie</th>\n",
              "      <th>in_bezit_overige_verhuurders</th>\n",
              "      <th>eigendom_onbekend</th>\n",
              "      <th>bouwjaar_voor_2000</th>\n",
              "      <th>bouwjaar_vanaf_2000</th>\n",
              "      <th>gemiddeld_elektriciteitsverbruik_totaal</th>\n",
              "      <th>elect_appartement</th>\n",
              "      <th>elect_tussenwoning</th>\n",
              "      <th>elect_hoekwoning</th>\n",
              "      <th>elect_twee_onder_een_kap_woning</th>\n",
              "      <th>elect_vrijstaande_woning</th>\n",
              "      <th>elect_huurwoning</th>\n",
              "      <th>elect_eigen_woning</th>\n",
              "      <th>gemiddeld_aardgasverbruik_totaal</th>\n",
              "      <th>aard_appartement</th>\n",
              "      <th>aard_tussenwoning</th>\n",
              "      <th>aard_hoekwoning</th>\n",
              "      <th>aard_twee_onder_een_kap_woning</th>\n",
              "      <th>aard_vrijstaande_woning</th>\n",
              "      <th>aard_huurwoning</th>\n",
              "      <th>aard_eigen_woning</th>\n",
              "      <th>percentage_woningen_met_stadsverwarming</th>\n",
              "      <th>aantal_inkomensontvangers</th>\n",
              "      <th>gemiddeld_inkomen_per_inkomensontvanger</th>\n",
              "      <th>gemiddeld_inkomen_per_inwoner</th>\n",
              "      <th>k_40_huishoudens_met_laagste_inkomen</th>\n",
              "      <th>k_20_huishoudens_met_hoogste_inkomen</th>\n",
              "      <th>personen_per_soort_uitkering_bijstand</th>\n",
              "      <th>personenautos_brandstof_benzine</th>\n",
              "      <th>personenautos_overige_brandstof</th>\n",
              "      <th>oppervlakte_land</th>\n",
              "      <th>mate_van_stedelijkheid</th>\n",
              "      <th>omgevingsadressendichtheid</th>\n",
              "      <th>bedrijfsvestigingen_totaal</th>\n",
              "      <th>type_a_landbouw_bosbouw_visserij</th>\n",
              "      <th>type_bf_nijverheid_energie</th>\n",
              "      <th>type_gi_handel_horeca</th>\n",
              "      <th>type_hj_vervoer_informatie_communicatie</th>\n",
              "      <th>type_kl_financiele_diensten_onroerendgoed</th>\n",
              "      <th>type_mn_zakelijke_dienstverlening</th>\n",
              "      <th>type_ru_cultuur_recreatie_overige_diensten</th>\n",
              "      <th>id_old</th>\n",
              "      <th>indelingswijziging_wijken_en_buurten</th>\n",
              "      <th>aantal_installaties_bij_woningen</th>\n",
              "      <th>aantal_zonnepanelen_per_installatie</th>\n",
              "      <th>opgesteld_vermogen_van_zonnepanelen</th>\n",
              "      <th>totaal_aantal_laadpalen</th>\n",
              "      <th>werkloosheidsuitkering_relatief</th>\n",
              "      <th>bijstandsuitkering_relatief</th>\n",
              "      <th>arbeidsongeschiktheidsuitkering_relatief</th>\n",
              "      <th>aow_uitkering_relatief</th>\n",
              "      <th>inwoners_vanaf_15_jaar</th>\n",
              "      <th>inwoners_vanaf_15_jr_tot_aow_leeftijd</th>\n",
              "      <th>inwoners_vanaf_de_aow_leeftijd</th>\n",
              "      <th>totaal_zonnepanelen</th>\n",
              "    </tr>\n",
              "  </thead>\n",
              "  <tbody>\n",
              "    <tr>\n",
              "      <th>0</th>\n",
              "      <td>9503</td>\n",
              "      <td>LoonopZand</td>\n",
              "      <td>Buurt</td>\n",
              "      <td>96</td>\n",
              "      <td>BU08093091</td>\n",
              "      <td>222</td>\n",
              "      <td>T001100ZW25810ZW25805ZW25806ZW10300ZW103201014...</td>\n",
              "      <td>0</td>\n",
              "      <td>110</td>\n",
              "      <td>110</td>\n",
              "      <td>35</td>\n",
              "      <td>30</td>\n",
              "      <td>40</td>\n",
              "      <td>70</td>\n",
              "      <td>45</td>\n",
              "      <td>80</td>\n",
              "      <td>15</td>\n",
              "      <td>35</td>\n",
              "      <td>35</td>\n",
              "      <td>26.0</td>\n",
              "      <td>26.0</td>\n",
              "      <td>92</td>\n",
              "      <td>425.0</td>\n",
              "      <td>90.0</td>\n",
              "      <td>8.0</td>\n",
              "      <td>0.0</td>\n",
              "      <td>8.0</td>\n",
              "      <td>2.0</td>\n",
              "      <td>74.0</td>\n",
              "      <td>26.0</td>\n",
              "      <td>4680.0</td>\n",
              "      <td>NaN</td>\n",
              "      <td>1900.0</td>\n",
              "      <td>NaN</td>\n",
              "      <td>4000.0</td>\n",
              "      <td>5420.0</td>\n",
              "      <td>NaN</td>\n",
              "      <td>4550.0</td>\n",
              "      <td>2350.0</td>\n",
              "      <td>NaN</td>\n",
              "      <td>910.0</td>\n",
              "      <td>NaN</td>\n",
              "      <td>1630.0</td>\n",
              "      <td>2860.0</td>\n",
              "      <td>NaN</td>\n",
              "      <td>2190.0</td>\n",
              "      <td>NaN</td>\n",
              "      <td>200</td>\n",
              "      <td>NaN</td>\n",
              "      <td>NaN</td>\n",
              "      <td>NaN</td>\n",
              "      <td>NaN</td>\n",
              "      <td>0.0</td>\n",
              "      <td>90</td>\n",
              "      <td>35</td>\n",
              "      <td>856</td>\n",
              "      <td>5.0</td>\n",
              "      <td>235.0</td>\n",
              "      <td>35.0</td>\n",
              "      <td>10.0</td>\n",
              "      <td>5.0</td>\n",
              "      <td>10.0</td>\n",
              "      <td>0.0</td>\n",
              "      <td>5.0</td>\n",
              "      <td>5.0</td>\n",
              "      <td>0.0</td>\n",
              "      <td>1004</td>\n",
              "      <td>1.0</td>\n",
              "      <td>10.0</td>\n",
              "      <td>26.0</td>\n",
              "      <td>60.0</td>\n",
              "      <td>0.0</td>\n",
              "      <td>90</td>\n",
              "      <td>20</td>\n",
              "      <td>155</td>\n",
              "      <td>930</td>\n",
              "      <td>800</td>\n",
              "      <td>630</td>\n",
              "      <td>200</td>\n",
              "      <td>260.0</td>\n",
              "    </tr>\n",
              "    <tr>\n",
              "      <th>1</th>\n",
              "      <td>4063</td>\n",
              "      <td>Dordrecht</td>\n",
              "      <td>Buurt</td>\n",
              "      <td>67</td>\n",
              "      <td>BU05050202</td>\n",
              "      <td>1046</td>\n",
              "      <td>T001100ZW25810ZW25805ZW25806ZW10300ZW103201014...</td>\n",
              "      <td>0</td>\n",
              "      <td>535</td>\n",
              "      <td>505</td>\n",
              "      <td>200</td>\n",
              "      <td>155</td>\n",
              "      <td>285</td>\n",
              "      <td>290</td>\n",
              "      <td>115</td>\n",
              "      <td>450</td>\n",
              "      <td>175</td>\n",
              "      <td>95</td>\n",
              "      <td>190</td>\n",
              "      <td>23.0</td>\n",
              "      <td>5979.0</td>\n",
              "      <td>437</td>\n",
              "      <td>131.0</td>\n",
              "      <td>24.0</td>\n",
              "      <td>76.0</td>\n",
              "      <td>71.0</td>\n",
              "      <td>5.0</td>\n",
              "      <td>0.0</td>\n",
              "      <td>91.0</td>\n",
              "      <td>9.0</td>\n",
              "      <td>2470.0</td>\n",
              "      <td>2050.0</td>\n",
              "      <td>3080.0</td>\n",
              "      <td>2940.0</td>\n",
              "      <td>NaN</td>\n",
              "      <td>NaN</td>\n",
              "      <td>2220.0</td>\n",
              "      <td>3280.0</td>\n",
              "      <td>840.0</td>\n",
              "      <td>720.0</td>\n",
              "      <td>970.0</td>\n",
              "      <td>980.0</td>\n",
              "      <td>NaN</td>\n",
              "      <td>NaN</td>\n",
              "      <td>790.0</td>\n",
              "      <td>980.0</td>\n",
              "      <td>NaN</td>\n",
              "      <td>800</td>\n",
              "      <td>NaN</td>\n",
              "      <td>NaN</td>\n",
              "      <td>607.0</td>\n",
              "      <td>76.0</td>\n",
              "      <td>110.0</td>\n",
              "      <td>235</td>\n",
              "      <td>70</td>\n",
              "      <td>17</td>\n",
              "      <td>1.0</td>\n",
              "      <td>2972.0</td>\n",
              "      <td>50.0</td>\n",
              "      <td>0.0</td>\n",
              "      <td>5.0</td>\n",
              "      <td>10.0</td>\n",
              "      <td>10.0</td>\n",
              "      <td>5.0</td>\n",
              "      <td>5.0</td>\n",
              "      <td>15.0</td>\n",
              "      <td>1006</td>\n",
              "      <td>1.0</td>\n",
              "      <td>NaN</td>\n",
              "      <td>NaN</td>\n",
              "      <td>NaN</td>\n",
              "      <td>0.0</td>\n",
              "      <td>90</td>\n",
              "      <td>485</td>\n",
              "      <td>455</td>\n",
              "      <td>520</td>\n",
              "      <td>3380</td>\n",
              "      <td>2950</td>\n",
              "      <td>440</td>\n",
              "      <td>NaN</td>\n",
              "    </tr>\n",
              "    <tr>\n",
              "      <th>2</th>\n",
              "      <td>2473</td>\n",
              "      <td>hetBildt</td>\n",
              "      <td>Wijk</td>\n",
              "      <td>96</td>\n",
              "      <td>WK006301</td>\n",
              "      <td>1677</td>\n",
              "      <td>T001100ZW25810ZW25805ZW25806ZW10300ZW103201014...</td>\n",
              "      <td>0</td>\n",
              "      <td>885</td>\n",
              "      <td>790</td>\n",
              "      <td>290</td>\n",
              "      <td>205</td>\n",
              "      <td>365</td>\n",
              "      <td>560</td>\n",
              "      <td>255</td>\n",
              "      <td>725</td>\n",
              "      <td>240</td>\n",
              "      <td>225</td>\n",
              "      <td>260</td>\n",
              "      <td>23.0</td>\n",
              "      <td>59.0</td>\n",
              "      <td>750</td>\n",
              "      <td>139.0</td>\n",
              "      <td>76.0</td>\n",
              "      <td>23.0</td>\n",
              "      <td>15.0</td>\n",
              "      <td>8.0</td>\n",
              "      <td>1.0</td>\n",
              "      <td>94.0</td>\n",
              "      <td>6.0</td>\n",
              "      <td>2690.0</td>\n",
              "      <td>NaN</td>\n",
              "      <td>1950.0</td>\n",
              "      <td>2380.0</td>\n",
              "      <td>2540.0</td>\n",
              "      <td>2930.0</td>\n",
              "      <td>1990.0</td>\n",
              "      <td>2900.0</td>\n",
              "      <td>1600.0</td>\n",
              "      <td>NaN</td>\n",
              "      <td>1300.0</td>\n",
              "      <td>1390.0</td>\n",
              "      <td>1420.0</td>\n",
              "      <td>1770.0</td>\n",
              "      <td>1330.0</td>\n",
              "      <td>1690.0</td>\n",
              "      <td>NaN</td>\n",
              "      <td>1300</td>\n",
              "      <td>NaN</td>\n",
              "      <td>NaN</td>\n",
              "      <td>363.0</td>\n",
              "      <td>163.0</td>\n",
              "      <td>30.0</td>\n",
              "      <td>640</td>\n",
              "      <td>240</td>\n",
              "      <td>2843</td>\n",
              "      <td>5.0</td>\n",
              "      <td>80.0</td>\n",
              "      <td>180.0</td>\n",
              "      <td>40.0</td>\n",
              "      <td>30.0</td>\n",
              "      <td>35.0</td>\n",
              "      <td>15.0</td>\n",
              "      <td>10.0</td>\n",
              "      <td>35.0</td>\n",
              "      <td>25.0</td>\n",
              "      <td>1000</td>\n",
              "      <td>1.0</td>\n",
              "      <td>70.0</td>\n",
              "      <td>18.0</td>\n",
              "      <td>278.0</td>\n",
              "      <td>2.0</td>\n",
              "      <td>125</td>\n",
              "      <td>80</td>\n",
              "      <td>185</td>\n",
              "      <td>710</td>\n",
              "      <td>5570</td>\n",
              "      <td>4560</td>\n",
              "      <td>1000</td>\n",
              "      <td>1260.0</td>\n",
              "    </tr>\n",
              "    <tr>\n",
              "      <th>3</th>\n",
              "      <td>11554</td>\n",
              "      <td>Oudewater</td>\n",
              "      <td>Buurt</td>\n",
              "      <td>42</td>\n",
              "      <td>BU05890208</td>\n",
              "      <td>134</td>\n",
              "      <td>T001100ZW25810ZW25805ZW25806ZW10300ZW103201014...</td>\n",
              "      <td>0</td>\n",
              "      <td>70</td>\n",
              "      <td>60</td>\n",
              "      <td>25</td>\n",
              "      <td>20</td>\n",
              "      <td>25</td>\n",
              "      <td>50</td>\n",
              "      <td>10</td>\n",
              "      <td>45</td>\n",
              "      <td>10</td>\n",
              "      <td>15</td>\n",
              "      <td>25</td>\n",
              "      <td>30.0</td>\n",
              "      <td>436.0</td>\n",
              "      <td>49</td>\n",
              "      <td>NaN</td>\n",
              "      <td>84.0</td>\n",
              "      <td>14.0</td>\n",
              "      <td>0.0</td>\n",
              "      <td>14.0</td>\n",
              "      <td>2.0</td>\n",
              "      <td>61.0</td>\n",
              "      <td>39.0</td>\n",
              "      <td>5120.0</td>\n",
              "      <td>NaN</td>\n",
              "      <td>NaN</td>\n",
              "      <td>NaN</td>\n",
              "      <td>5030.0</td>\n",
              "      <td>5450.0</td>\n",
              "      <td>NaN</td>\n",
              "      <td>4830.0</td>\n",
              "      <td>2210.0</td>\n",
              "      <td>NaN</td>\n",
              "      <td>NaN</td>\n",
              "      <td>NaN</td>\n",
              "      <td>2270.0</td>\n",
              "      <td>2410.0</td>\n",
              "      <td>NaN</td>\n",
              "      <td>2050.0</td>\n",
              "      <td>NaN</td>\n",
              "      <td>100</td>\n",
              "      <td>NaN</td>\n",
              "      <td>NaN</td>\n",
              "      <td>NaN</td>\n",
              "      <td>NaN</td>\n",
              "      <td>0.0</td>\n",
              "      <td>90</td>\n",
              "      <td>85</td>\n",
              "      <td>31</td>\n",
              "      <td>4.0</td>\n",
              "      <td>535.0</td>\n",
              "      <td>120.0</td>\n",
              "      <td>0.0</td>\n",
              "      <td>40.0</td>\n",
              "      <td>45.0</td>\n",
              "      <td>10.0</td>\n",
              "      <td>20.0</td>\n",
              "      <td>5.0</td>\n",
              "      <td>0.0</td>\n",
              "      <td>1008</td>\n",
              "      <td>1.0</td>\n",
              "      <td>6.0</td>\n",
              "      <td>11.0</td>\n",
              "      <td>14.0</td>\n",
              "      <td>1.0</td>\n",
              "      <td>10</td>\n",
              "      <td>0</td>\n",
              "      <td>40</td>\n",
              "      <td>375</td>\n",
              "      <td>440</td>\n",
              "      <td>400</td>\n",
              "      <td>40</td>\n",
              "      <td>66.0</td>\n",
              "    </tr>\n",
              "    <tr>\n",
              "      <th>4</th>\n",
              "      <td>6943</td>\n",
              "      <td>Heerlen</td>\n",
              "      <td>Buurt</td>\n",
              "      <td>16</td>\n",
              "      <td>BU09173201</td>\n",
              "      <td>340</td>\n",
              "      <td>T001100ZW25810ZW25805ZW25806ZW10300ZW103201014...</td>\n",
              "      <td>0</td>\n",
              "      <td>150</td>\n",
              "      <td>185</td>\n",
              "      <td>20</td>\n",
              "      <td>25</td>\n",
              "      <td>55</td>\n",
              "      <td>90</td>\n",
              "      <td>140</td>\n",
              "      <td>255</td>\n",
              "      <td>195</td>\n",
              "      <td>35</td>\n",
              "      <td>25</td>\n",
              "      <td>13.0</td>\n",
              "      <td>1542.0</td>\n",
              "      <td>271</td>\n",
              "      <td>81.0</td>\n",
              "      <td>11.0</td>\n",
              "      <td>66.0</td>\n",
              "      <td>30.0</td>\n",
              "      <td>37.0</td>\n",
              "      <td>23.0</td>\n",
              "      <td>100.0</td>\n",
              "      <td>0.0</td>\n",
              "      <td>2040.0</td>\n",
              "      <td>1840.0</td>\n",
              "      <td>2490.0</td>\n",
              "      <td>2210.0</td>\n",
              "      <td>NaN</td>\n",
              "      <td>NaN</td>\n",
              "      <td>2120.0</td>\n",
              "      <td>1940.0</td>\n",
              "      <td>930.0</td>\n",
              "      <td>850.0</td>\n",
              "      <td>1050.0</td>\n",
              "      <td>1600.0</td>\n",
              "      <td>NaN</td>\n",
              "      <td>NaN</td>\n",
              "      <td>960.0</td>\n",
              "      <td>930.0</td>\n",
              "      <td>NaN</td>\n",
              "      <td>300</td>\n",
              "      <td>NaN</td>\n",
              "      <td>NaN</td>\n",
              "      <td>879.0</td>\n",
              "      <td>0.0</td>\n",
              "      <td>30.0</td>\n",
              "      <td>90</td>\n",
              "      <td>5</td>\n",
              "      <td>22</td>\n",
              "      <td>2.0</td>\n",
              "      <td>1763.0</td>\n",
              "      <td>0.0</td>\n",
              "      <td>NaN</td>\n",
              "      <td>NaN</td>\n",
              "      <td>NaN</td>\n",
              "      <td>NaN</td>\n",
              "      <td>NaN</td>\n",
              "      <td>NaN</td>\n",
              "      <td>NaN</td>\n",
              "      <td>1008</td>\n",
              "      <td>1.0</td>\n",
              "      <td>NaN</td>\n",
              "      <td>NaN</td>\n",
              "      <td>NaN</td>\n",
              "      <td>0.0</td>\n",
              "      <td>55</td>\n",
              "      <td>445</td>\n",
              "      <td>445</td>\n",
              "      <td>1690</td>\n",
              "      <td>1280</td>\n",
              "      <td>740</td>\n",
              "      <td>540</td>\n",
              "      <td>NaN</td>\n",
              "    </tr>\n",
              "  </tbody>\n",
              "</table>\n",
              "</div>"
            ],
            "text/plain": [
              "      X1 gemeentenaam  ... inwoners_vanaf_de_aow_leeftijd  totaal_zonnepanelen\n",
              "0   9503   LoonopZand  ...                            200                260.0\n",
              "1   4063    Dordrecht  ...                            440                  NaN\n",
              "2   2473     hetBildt  ...                           1000               1260.0\n",
              "3  11554    Oudewater  ...                             40                 66.0\n",
              "4   6943      Heerlen  ...                            540                  NaN\n",
              "\n",
              "[5 rows x 80 columns]"
            ]
          },
          "metadata": {
            "tags": []
          },
          "execution_count": 4
        }
      ]
    },
    {
      "cell_type": "code",
      "metadata": {
        "colab": {
          "base_uri": "https://localhost:8080/"
        },
        "id": "5JFVkJaa69je",
        "outputId": "68eed12a-77a2-4bb1-967a-214578c1f031"
      },
      "source": [
        "data.info()"
      ],
      "execution_count": 5,
      "outputs": [
        {
          "output_type": "stream",
          "text": [
            "<class 'pandas.core.frame.DataFrame'>\n",
            "RangeIndex: 16666 entries, 0 to 16665\n",
            "Data columns (total 80 columns):\n",
            " #   Column                                      Non-Null Count  Dtype  \n",
            "---  ------                                      --------------  -----  \n",
            " 0   X1                                          16666 non-null  int64  \n",
            " 1   gemeentenaam                                16666 non-null  object \n",
            " 2   soort_regio                                 16666 non-null  object \n",
            " 3   id                                          16666 non-null  int64  \n",
            " 4   codering                                    16666 non-null  object \n",
            " 5   aantal_inwoners                             16666 non-null  int64  \n",
            " 6   woningkenmerken                             16666 non-null  object \n",
            " 7   stadsverwarming                             16666 non-null  int64  \n",
            " 8   mannen                                      16666 non-null  int64  \n",
            " 9   vrouwen                                     16666 non-null  int64  \n",
            " 10  k_0_tot_15_jaar                             16666 non-null  int64  \n",
            " 11  k_15_tot_25_jaar                            16666 non-null  int64  \n",
            " 12  k_25_tot_45_jaar                            16666 non-null  int64  \n",
            " 13  k_45_tot_65_jaar                            16666 non-null  int64  \n",
            " 14  k_65_jaar_of_ouder                          16666 non-null  int64  \n",
            " 15  huishoudens_totaal                          16666 non-null  int64  \n",
            " 16  eenpersoonshuishoudens                      16666 non-null  int64  \n",
            " 17  huishoudens_zonder_kinderen                 16666 non-null  int64  \n",
            " 18  huishoudens_met_kinderen                    16666 non-null  int64  \n",
            " 19  gemiddelde_huishoudensgrootte               16334 non-null  float64\n",
            " 20  bevolkingsdichtheid                         16038 non-null  float64\n",
            " 21  woningvoorraad                              16666 non-null  int64  \n",
            " 22  gemiddelde_woningwaarde                     13051 non-null  float64\n",
            " 23  koopwoningen                                15123 non-null  float64\n",
            " 24  huurwoningen_totaal                         15123 non-null  float64\n",
            " 25  in_bezit_woningcorporatie                   15123 non-null  float64\n",
            " 26  in_bezit_overige_verhuurders                15123 non-null  float64\n",
            " 27  eigendom_onbekend                           15123 non-null  float64\n",
            " 28  bouwjaar_voor_2000                          15145 non-null  float64\n",
            " 29  bouwjaar_vanaf_2000                         15145 non-null  float64\n",
            " 30  gemiddeld_elektriciteitsverbruik_totaal     15434 non-null  float64\n",
            " 31  elect_appartement                           9428 non-null   float64\n",
            " 32  elect_tussenwoning                          10867 non-null  float64\n",
            " 33  elect_hoekwoning                            10601 non-null  float64\n",
            " 34  elect_twee_onder_een_kap_woning             11423 non-null  float64\n",
            " 35  elect_vrijstaande_woning                    12954 non-null  float64\n",
            " 36  elect_huurwoning                            12788 non-null  float64\n",
            " 37  elect_eigen_woning                          15209 non-null  float64\n",
            " 38  gemiddeld_aardgasverbruik_totaal            15195 non-null  float64\n",
            " 39  aard_appartement                            9199 non-null   float64\n",
            " 40  aard_tussenwoning                           10637 non-null  float64\n",
            " 41  aard_hoekwoning                             10395 non-null  float64\n",
            " 42  aard_twee_onder_een_kap_woning              11265 non-null  float64\n",
            " 43  aard_vrijstaande_woning                     12826 non-null  float64\n",
            " 44  aard_huurwoning                             12561 non-null  float64\n",
            " 45  aard_eigen_woning                           14965 non-null  float64\n",
            " 46  percentage_woningen_met_stadsverwarming     937 non-null    float64\n",
            " 47  aantal_inkomensontvangers                   16666 non-null  int64  \n",
            " 48  gemiddeld_inkomen_per_inkomensontvanger     3362 non-null   float64\n",
            " 49  gemiddeld_inkomen_per_inwoner               4071 non-null   float64\n",
            " 50  k_40_huishoudens_met_laagste_inkomen        12285 non-null  float64\n",
            " 51  k_20_huishoudens_met_hoogste_inkomen        12285 non-null  float64\n",
            " 52  personen_per_soort_uitkering_bijstand       15201 non-null  float64\n",
            " 53  personenautos_brandstof_benzine             16666 non-null  int64  \n",
            " 54  personenautos_overige_brandstof             16666 non-null  int64  \n",
            " 55  oppervlakte_land                            16666 non-null  int64  \n",
            " 56  mate_van_stedelijkheid                      16605 non-null  float64\n",
            " 57  omgevingsadressendichtheid                  16605 non-null  float64\n",
            " 58  bedrijfsvestigingen_totaal                  16458 non-null  float64\n",
            " 59  type_a_landbouw_bosbouw_visserij            14321 non-null  float64\n",
            " 60  type_bf_nijverheid_energie                  14321 non-null  float64\n",
            " 61  type_gi_handel_horeca                       14321 non-null  float64\n",
            " 62  type_hj_vervoer_informatie_communicatie     14321 non-null  float64\n",
            " 63  type_kl_financiele_diensten_onroerendgoed   14321 non-null  float64\n",
            " 64  type_mn_zakelijke_dienstverlening           14321 non-null  float64\n",
            " 65  type_ru_cultuur_recreatie_overige_diensten  14321 non-null  float64\n",
            " 66  id_old                                      16666 non-null  int64  \n",
            " 67  indelingswijziging_wijken_en_buurten        16278 non-null  float64\n",
            " 68  aantal_installaties_bij_woningen            13323 non-null  float64\n",
            " 69  aantal_zonnepanelen_per_installatie         10669 non-null  float64\n",
            " 70  opgesteld_vermogen_van_zonnepanelen         10669 non-null  float64\n",
            " 71  totaal_aantal_laadpalen                     14622 non-null  float64\n",
            " 72  werkloosheidsuitkering_relatief             16666 non-null  int64  \n",
            " 73  bijstandsuitkering_relatief                 16666 non-null  int64  \n",
            " 74  arbeidsongeschiktheidsuitkering_relatief    16666 non-null  int64  \n",
            " 75  aow_uitkering_relatief                      16666 non-null  int64  \n",
            " 76  inwoners_vanaf_15_jaar                      16666 non-null  int64  \n",
            " 77  inwoners_vanaf_15_jr_tot_aow_leeftijd       16666 non-null  int64  \n",
            " 78  inwoners_vanaf_de_aow_leeftijd              16666 non-null  int64  \n",
            " 79  totaal_zonnepanelen                         10669 non-null  float64\n",
            "dtypes: float64(48), int64(28), object(4)\n",
            "memory usage: 10.2+ MB\n"
          ],
          "name": "stdout"
        }
      ]
    },
    {
      "cell_type": "code",
      "metadata": {
        "colab": {
          "base_uri": "https://localhost:8080/"
        },
        "id": "UXuBgFat4o-V",
        "outputId": "ac6c6e56-35e7-4748-df80-217e1d70caed"
      },
      "source": [
        "data[\"gemeentenaam\"].nunique()"
      ],
      "execution_count": 6,
      "outputs": [
        {
          "output_type": "execute_result",
          "data": {
            "text/plain": [
              "388"
            ]
          },
          "metadata": {
            "tags": []
          },
          "execution_count": 6
        }
      ]
    },
    {
      "cell_type": "code",
      "metadata": {
        "colab": {
          "base_uri": "https://localhost:8080/"
        },
        "id": "u5uHh0U65Kuj",
        "outputId": "3b07bcb0-80ce-4ed5-df80-e98f35d99909"
      },
      "source": [
        "data[\"soort_regio\"].value_counts()"
      ],
      "execution_count": 7,
      "outputs": [
        {
          "output_type": "execute_result",
          "data": {
            "text/plain": [
              "Buurt       13208\n",
              "Wijk         3070\n",
              "Gemeente      388\n",
              "Name: soort_regio, dtype: int64"
            ]
          },
          "metadata": {
            "tags": []
          },
          "execution_count": 7
        }
      ]
    },
    {
      "cell_type": "code",
      "metadata": {
        "colab": {
          "base_uri": "https://localhost:8080/"
        },
        "id": "ruW2fAtb5M7t",
        "outputId": "8bd7351a-975b-4cc4-d04d-d997ccd44795"
      },
      "source": [
        " (\n",
        "    data\n",
        "    .groupby([\"gemeentenaam\"])\n",
        "    [\"totaal_aantal_laadpalen\"]\n",
        "    .mean()\n",
        "    .sort_values(ascending = False)\n",
        "    .head(500)\n",
        ")\n"
      ],
      "execution_count": 8,
      "outputs": [
        {
          "output_type": "execute_result",
          "data": {
            "text/plain": [
              "gemeentenaam\n",
              "Langedijk          17.250000\n",
              "Zeewolde           12.538462\n",
              "Culemborg          12.100000\n",
              "Oldenzaal          10.038462\n",
              "StedeBroec          9.250000\n",
              "                     ...    \n",
              "Zwijndrecht         0.217391\n",
              "Zandvoort           0.176471\n",
              "Terschelling        0.150000\n",
              "Wassenaar           0.136364\n",
              "Schiermonnikoog     0.000000\n",
              "Name: totaal_aantal_laadpalen, Length: 388, dtype: float64"
            ]
          },
          "metadata": {
            "tags": []
          },
          "execution_count": 8
        }
      ]
    },
    {
      "cell_type": "code",
      "metadata": {
        "colab": {
          "base_uri": "https://localhost:8080/"
        },
        "id": "Dq3-E01O5yAP",
        "outputId": "f272bafd-c314-4800-f74f-c3fe648618e6"
      },
      "source": [
        "(\n",
        "    data\n",
        "    .groupby([\"gemeentenaam\"])\n",
        "    [\"totaal_zonnepanelen\"]\n",
        "    .mean()\n",
        "    .sort_values(ascending = False)\n",
        "    .head(500)\n",
        ")"
      ],
      "execution_count": 9,
      "outputs": [
        {
          "output_type": "execute_result",
          "data": {
            "text/plain": [
              "gemeentenaam\n",
              "Langedijk              7193.428571\n",
              "Zeewolde               5560.000000\n",
              "Appingedam             5319.250000\n",
              "GilzeenRijen           4757.000000\n",
              "Beek                   4677.571429\n",
              "                          ...     \n",
              "Maassluis               468.166667\n",
              "Vlieland                444.000000\n",
              "Schiermonnikoog         418.000000\n",
              "CapelleaandenIJssel     354.076923\n",
              "Schiedam                329.939394\n",
              "Name: totaal_zonnepanelen, Length: 388, dtype: float64"
            ]
          },
          "metadata": {
            "tags": []
          },
          "execution_count": 9
        }
      ]
    },
    {
      "cell_type": "markdown",
      "metadata": {
        "id": "zy-FlH7b3xZn"
      },
      "source": [
        "# Regressie\n",
        "\n",
        "Omdat EC Energy intern niet veel werknemers heeft met verstand van Data Science is er een stagiaire gevraagd om een opzet te maken van een model.\n",
        "\n",
        "Deze stagiaire heeft de data gefiltered op een aantal interessante variabelen. Daarna zijn deze variabelen door een lineaire regressie gehaald. Op basis van de resultaten is EC Energy enthousiast, maar geeft de stagiaire aan dat er problemen zijn met deze analyse en een verdieping noodzakelijk is. Daarom heeft EC Energy meerdere consultancy partijen gevraag een business case op te stellen."
      ]
    },
    {
      "cell_type": "code",
      "metadata": {
        "colab": {
          "base_uri": "https://localhost:8080/"
        },
        "id": "Bent33aj85oG",
        "outputId": "5c25f111-e22f-43cc-ace2-a0bf5cc25247"
      },
      "source": [
        "data['EV_totaal'] = data['personenautos_overige_brandstof'] * 0.2333\n",
        "X = (data[\n",
        "          [\n",
        "           \"EV_totaal\",\n",
        "           \"huishoudens_totaal\",\n",
        "           \"totaal_aantal_laadpalen\"\n",
        "           ]\n",
        "          ])\n",
        "X.dropna(inplace =True)"
      ],
      "execution_count": 14,
      "outputs": [
        {
          "output_type": "stream",
          "text": [
            "/usr/local/lib/python3.7/dist-packages/ipykernel_launcher.py:9: SettingWithCopyWarning: \n",
            "A value is trying to be set on a copy of a slice from a DataFrame\n",
            "\n",
            "See the caveats in the documentation: https://pandas.pydata.org/pandas-docs/stable/user_guide/indexing.html#returning-a-view-versus-a-copy\n",
            "  if __name__ == '__main__':\n"
          ],
          "name": "stderr"
        }
      ]
    },
    {
      "cell_type": "code",
      "metadata": {
        "colab": {
          "base_uri": "https://localhost:8080/"
        },
        "id": "EGCjbM5D-dMS",
        "outputId": "63979c58-0aac-4ff9-ac66-f33fafbbb6d9"
      },
      "source": [
        "x = X.drop(\"totaal_aantal_laadpalen\", axis=1)\n",
        "y = X[\"totaal_aantal_laadpalen\"]\n",
        "x = sm.add_constant(x)\n",
        "model = sm.OLS(y, x)\n",
        "results = model.fit()\n",
        "print(results.summary())"
      ],
      "execution_count": 15,
      "outputs": [
        {
          "output_type": "stream",
          "text": [
            "                               OLS Regression Results                              \n",
            "===================================================================================\n",
            "Dep. Variable:     totaal_aantal_laadpalen   R-squared:                       0.461\n",
            "Model:                                 OLS   Adj. R-squared:                  0.461\n",
            "Method:                      Least Squares   F-statistic:                     6260.\n",
            "Date:                     Tue, 15 Jun 2021   Prob (F-statistic):               0.00\n",
            "Time:                             09:28:45   Log-Likelihood:                -49426.\n",
            "No. Observations:                    14622   AIC:                         9.886e+04\n",
            "Df Residuals:                        14619   BIC:                         9.888e+04\n",
            "Df Model:                                2                                         \n",
            "Covariance Type:                 nonrobust                                         \n",
            "======================================================================================\n",
            "                         coef    std err          t      P>|t|      [0.025      0.975]\n",
            "--------------------------------------------------------------------------------------\n",
            "const                  0.8953      0.060     14.887      0.000       0.777       1.013\n",
            "EV_totaal              0.0125      0.000     58.220      0.000       0.012       0.013\n",
            "huishoudens_totaal     0.0004   1.22e-05     29.724      0.000       0.000       0.000\n",
            "==============================================================================\n",
            "Omnibus:                    34735.061   Durbin-Watson:                   2.021\n",
            "Prob(Omnibus):                  0.000   Jarque-Bera (JB):       1034255244.201\n",
            "Skew:                          23.609   Prob(JB):                         0.00\n",
            "Kurtosis:                    1305.059   Cond. No.                     6.95e+03\n",
            "==============================================================================\n",
            "\n",
            "Warnings:\n",
            "[1] Standard Errors assume that the covariance matrix of the errors is correctly specified.\n",
            "[2] The condition number is large, 6.95e+03. This might indicate that there are\n",
            "strong multicollinearity or other numerical problems.\n"
          ],
          "name": "stdout"
        }
      ]
    },
    {
      "cell_type": "markdown",
      "metadata": {
        "id": "SVGUOI6m5fUj"
      },
      "source": [
        "# Vraagstelling\n",
        "\n",
        "Na het zien van deze regressie is EC Energy benieuwd wat er nog meer mogelijk is met deze data. Daarom hebben ze jou gevraagd om een business case op te zetten. Hierin wilt EC Energy een duidelijk advies waar ze hun salesstrategie op moeten toespitsen. Ze laten jou vrij om iedere techniek te gebruiken waarvan jij denkt dat het het meeste resultaat gaat opleveren.\n",
        "\n",
        "EC Energy gaat jou beoordelen op hoe begrijpbaar jouw salesstrategie is (50%), hoe goed je model/tool werkt (20%) en hoe dit zich verhoudt tot je concurrenten (30%)."
      ]
    }
  ]
}