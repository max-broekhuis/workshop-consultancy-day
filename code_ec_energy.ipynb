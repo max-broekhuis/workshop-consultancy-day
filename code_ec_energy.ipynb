{
  "nbformat": 4,
  "nbformat_minor": 0,
  "metadata": {
    "colab": {
      "name": "code_ec_energy.ipynb",
      "provenance": [],
      "include_colab_link": true
    },
    "kernelspec": {
      "name": "python3",
      "display_name": "Python 3"
    },
    "language_info": {
      "name": "python"
    }
  },
  "cells": [
    {
      "cell_type": "markdown",
      "metadata": {
        "id": "view-in-github",
        "colab_type": "text"
      },
      "source": [
        "<a href=\"https://colab.research.google.com/github/max-broekhuis/workshop-consultancy-day/blob/main/code_ec_energy.ipynb\" target=\"_parent\"><img src=\"https://colab.research.google.com/assets/colab-badge.svg\" alt=\"Open In Colab\"/></a>"
      ]
    },
    {
      "cell_type": "code",
      "metadata": {
        "id": "re7a3JIFlv90"
      },
      "source": [
        "import pandas as pd\n",
        "import numpy as np\n",
        "from sklearn import preprocessing\n",
        "import statsmodels.api as sm"
      ],
      "execution_count": null,
      "outputs": []
    },
    {
      "cell_type": "markdown",
      "metadata": {
        "id": "l2ULY5A43WxO"
      },
      "source": [
        "# Inladen Data\n",
        "\n"
      ]
    },
    {
      "cell_type": "code",
      "metadata": {
        "id": "vqTMrbWhrbIn"
      },
      "source": [
        "!curl -L -c cookies.txt 'https://docs.google.com/uc?export=download&id=1mlqgfqfBmp9Att1KHQZADannFgAqt7l6' | sed -rn 's/.*confirm=([0-9A-Za-z_]+).*/\\1/p' > confirm.txt\n",
        "!curl -L -b cookies.txt -o 'EC_Energy_case.xlsx' 'https://docs.google.com/uc?export=download&id=1mlqgfqfBmp9Att1KHQZADannFgAqt7l6&confirm='$(<confirm.txt)\n",
        "!rm -f confirm.txt cookies.txt"
      ],
      "execution_count": null,
      "outputs": []
    },
    {
      "cell_type": "code",
      "metadata": {
        "id": "LMorjSQCsotB"
      },
      "source": [
        "data = pd.read_excel(\"EC_Energy_case.xlsx\")\n",
        "data = data.assign(totaal_zonnepanelen = lambda x: x.aantal_installaties_bij_woningen*x.aantal_zonnepanelen_per_installatie)"
      ],
      "execution_count": null,
      "outputs": []
    },
    {
      "cell_type": "markdown",
      "metadata": {
        "id": "8ifi0vmb3jfA"
      },
      "source": [
        "# Analyse data"
      ]
    },
    {
      "cell_type": "code",
      "metadata": {
        "id": "v_c3jWBI7Be-"
      },
      "source": [
        "data.head()"
      ],
      "execution_count": null,
      "outputs": []
    },
    {
      "cell_type": "code",
      "metadata": {
        "id": "5JFVkJaa69je"
      },
      "source": [
        "data.info()"
      ],
      "execution_count": null,
      "outputs": []
    },
    {
      "cell_type": "code",
      "metadata": {
        "id": "UXuBgFat4o-V"
      },
      "source": [
        "data[\"gemeentenaam\"].nunique()"
      ],
      "execution_count": null,
      "outputs": []
    },
    {
      "cell_type": "code",
      "metadata": {
        "id": "u5uHh0U65Kuj"
      },
      "source": [
        "data[\"soort_regio\"].value_counts()"
      ],
      "execution_count": null,
      "outputs": []
    },
    {
      "cell_type": "code",
      "metadata": {
        "id": "ruW2fAtb5M7t"
      },
      "source": [
        " (\n",
        "    data\n",
        "    .groupby([\"gemeentenaam\"])\n",
        "    [\"totaal_aantal_laadpalen\"]\n",
        "    .mean()\n",
        "    .sort_values(ascending = False)\n",
        "    .head(500)\n",
        ")\n"
      ],
      "execution_count": null,
      "outputs": []
    },
    {
      "cell_type": "code",
      "metadata": {
        "id": "Dq3-E01O5yAP"
      },
      "source": [
        "(\n",
        "    data\n",
        "    .groupby([\"gemeentenaam\"])\n",
        "    [\"totaal_zonnepanelen\"]\n",
        "    .mean()\n",
        "    .sort_values(ascending = False)\n",
        "    .head(500)\n",
        ")"
      ],
      "execution_count": null,
      "outputs": []
    },
    {
      "cell_type": "markdown",
      "metadata": {
        "id": "zy-FlH7b3xZn"
      },
      "source": [
        "# Regressie\n",
        "\n",
        "Omdat EC Energy intern niet veel werknemers heeft met verstand van Data Science is er een staigaire gevraagd om een opzet te maken van een model.\n",
        "\n",
        "Deze staigaire heeft de data gefiltered op een aantal interessante variabelen. Daarna zijn deze variabelen door een lineaire regressie gehaald. Op basis van de resultaten is EC Energy enthousiast, maar geeft de staigaire aan dat er problemen zijn met deze analyse en een verdieping noodzakelijk is. Daarom heeft EC Energy meerdere consultancy partijen gevraag een business case op te stellen."
      ]
    },
    {
      "cell_type": "code",
      "metadata": {
        "id": "Bent33aj85oG"
      },
      "source": [
        "data['EV_totaal'] = data['personenautos_overige_brandstof'] * 0.2333\n",
        "X = (data[\n",
        "          [\n",
        "           \"EV_totaal\",\n",
        "           \"gemiddelde_huishoudensgrootte\",\n",
        "           \"gemiddelde_woningwaarde\",\n",
        "           \"totaal_aantal_laadpalen\",\n",
        "           \"huishoudens_totaal\",\n",
        "           \"k_0_tot_15_jaar\",\n",
        "           \"k_15_tot_25_jaar\",\n",
        "           \"k_25_tot_45_jaar\",\n",
        "           \"k_45_tot_65_jaar\",\n",
        "           \"k_65_jaar_of_ouder\",\n",
        "           \"eenpersoonshuishoudens\",\n",
        "           \"huishoudens_zonder_kinderen\",\n",
        "           \"huishoudens_met_kinderen\",\n",
        "           \"aantal_inkomensontvangers\",\n",
        "           \"gemiddeld_inkomen_per_inkomensontvanger\",\n",
        "           \"gemiddeld_inkomen_per_inwoner\",\n",
        "           \"k_40_huishoudens_met_laagste_inkomen\",\n",
        "           \"k_20_huishoudens_met_hoogste_inkomen\"\n",
        "           ]\n",
        "          ])\n",
        "X.dropna(inplace =True)"
      ],
      "execution_count": null,
      "outputs": []
    },
    {
      "cell_type": "code",
      "metadata": {
        "colab": {
          "base_uri": "https://localhost:8080/"
        },
        "id": "EGCjbM5D-dMS",
        "outputId": "65eaf345-335f-4d85-c366-66fdcb5a4b0f"
      },
      "source": [
        "x = X.drop(\"totaal_aantal_laadpalen\", axis=1)\n",
        "y = X[\"totaal_aantal_laadpalen\"]\n",
        "x = sm.add_constant(x)\n",
        "model = sm.OLS(y, x)\n",
        "results = model.fit()\n",
        "print(results.summary())"
      ],
      "execution_count": 130,
      "outputs": [
        {
          "output_type": "stream",
          "text": [
            "                               OLS Regression Results                              \n",
            "===================================================================================\n",
            "Dep. Variable:     totaal_aantal_laadpalen   R-squared:                       0.671\n",
            "Model:                                 OLS   Adj. R-squared:                  0.669\n",
            "Method:                      Least Squares   F-statistic:                     343.2\n",
            "Date:                     Mon, 14 Jun 2021   Prob (F-statistic):               0.00\n",
            "Time:                             14:21:17   Log-Likelihood:                -10766.\n",
            "No. Observations:                     2874   AIC:                         2.157e+04\n",
            "Df Residuals:                         2856   BIC:                         2.167e+04\n",
            "Df Model:                               17                                         \n",
            "Covariance Type:                 nonrobust                                         \n",
            "===========================================================================================================\n",
            "                                              coef    std err          t      P>|t|      [0.025      0.975]\n",
            "-----------------------------------------------------------------------------------------------------------\n",
            "const                                      12.2758      9.654      1.272      0.204      -6.654      31.206\n",
            "EV_totaal                                   0.0044      0.000     10.855      0.000       0.004       0.005\n",
            "gemiddelde_huishoudensgrootte              -0.2136      0.269     -0.793      0.428      -0.742       0.315\n",
            "gemiddelde_woningwaarde                    -0.0020      0.007     -0.304      0.761      -0.015       0.011\n",
            "huishoudens_totaal                          0.0009      0.037      0.024      0.981      -0.071       0.072\n",
            "k_0_tot_15_jaar                             0.0207      0.001     20.787      0.000       0.019       0.023\n",
            "k_15_tot_25_jaar                           -0.0016      0.001     -1.728      0.084      -0.003       0.000\n",
            "k_25_tot_45_jaar                           -0.0038      0.001     -3.319      0.001      -0.006      -0.002\n",
            "k_45_tot_65_jaar                            0.0093      0.001      9.266      0.000       0.007       0.011\n",
            "k_65_jaar_of_ouder                         -0.0067      0.001     -6.356      0.000      -0.009      -0.005\n",
            "eenpersoonshuishoudens                     -0.0027      0.037     -0.075      0.940      -0.074       0.069\n",
            "huishoudens_zonder_kinderen                 0.0074      0.037      0.203      0.839      -0.064       0.079\n",
            "huishoudens_met_kinderen                   -0.0357      0.036     -0.982      0.326      -0.107       0.036\n",
            "aantal_inkomensontvangers                   0.0019      0.001      2.555      0.011       0.000       0.003\n",
            "gemiddeld_inkomen_per_inkomensontvanger    -0.0173      0.022     -0.786      0.432      -0.061       0.026\n",
            "gemiddeld_inkomen_per_inwoner              -0.0045      0.034     -0.134      0.893      -0.071       0.062\n",
            "k_40_huishoudens_met_laagste_inkomen       -0.0035      0.006     -0.605      0.546      -0.015       0.008\n",
            "k_20_huishoudens_met_hoogste_inkomen        0.0026      0.007      0.352      0.725      -0.012       0.017\n",
            "==============================================================================\n",
            "Omnibus:                     5589.078   Durbin-Watson:                   2.024\n",
            "Prob(Omnibus):                  0.000   Jarque-Bera (JB):         24544388.282\n",
            "Skew:                          14.679   Prob(JB):                         0.00\n",
            "Kurtosis:                     454.776   Cond. No.                     1.65e+06\n",
            "==============================================================================\n",
            "\n",
            "Warnings:\n",
            "[1] Standard Errors assume that the covariance matrix of the errors is correctly specified.\n",
            "[2] The condition number is large, 1.65e+06. This might indicate that there are\n",
            "strong multicollinearity or other numerical problems.\n"
          ],
          "name": "stdout"
        }
      ]
    },
    {
      "cell_type": "markdown",
      "metadata": {
        "id": "SVGUOI6m5fUj"
      },
      "source": [
        "# Vraagstelling\n",
        "\n",
        "Na het zien van deze regressie is EC Energy benieuwd wat er nog meer mogelijk is met deze data. Daarom hebben ze jou gevraagd om een business case op te zetten. Hierin wilt EC Energy een duidelijk advies waar ze hun salesstrategie op moeten toespitsen. Inhoudelijk hebben ze weinig verstand van Data Science en daarom laten ze jou vrij om iedere techniek te gebruiken waarvan jij denkt dat het het meeste resultaat gaat opleveren.\n",
        "\n",
        "EC Energy gaat jou beoordelen op hoe begrijpbaar jouw salesstrategie is (50%), hoe goed je model/tool werkt (20%) en hoe dit zich verhoudt tot je concurrenten (30%)."
      ]
    }
  ]
}